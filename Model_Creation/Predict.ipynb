{
  "cells": [
    {
      "cell_type": "code",
      "execution_count": 1,
      "metadata": {
        "colab": {},
        "colab_type": "code",
        "id": "ddyQ8HE8zeYj"
      },
      "outputs": [
        {
          "name": "stderr",
          "output_type": "stream",
          "text": [
            "websocket-client package not installed, only polling transport is available\n"
          ]
        },
        {
          "name": "stdout",
          "output_type": "stream",
          "text": [
            "Connected to server\n"
          ]
        }
      ],
      "source": [
        "# pip install python-socketio\n",
        "import socketio\n",
        "\n",
        "sio = socketio.Client()\n",
        "\n",
        "\n",
        "@sio.event\n",
        "def connect():\n",
        "    print('Connected to server')\n",
        "\n",
        "\n",
        "@sio.event\n",
        "def disconnect():\n",
        "    print('Disconnected from server')\n",
        "    exit()\n",
        "\n",
        "\n",
        "@sio.event\n",
        "def prediction_result(data):\n",
        "    print('Prediction:', data)\n",
        "\n",
        "\n",
        "sio.connect('http://localhost:3000')\n"
      ]
    },
    {
      "cell_type": "code",
      "execution_count": 2,
      "metadata": {
        "colab": {},
        "colab_type": "code",
        "id": "3vj15Vde0Gxs"
      },
      "outputs": [],
      "source": [
        "# import libraries\n",
        "# !pip3 install face_recognition\n",
        "\n",
        "import torch\n",
        "import torchvision\n",
        "from torchvision import transforms\n",
        "from torch.utils.data import DataLoader\n",
        "from torch.utils.data.dataset import Dataset\n",
        "import os\n",
        "import numpy as np\n",
        "import cv2\n",
        "import matplotlib.pyplot as plt\n",
        "# import face_recognition\n"
      ]
    },
    {
      "cell_type": "code",
      "execution_count": 3,
      "metadata": {
        "colab": {},
        "colab_type": "code",
        "id": "C3r-9rMc1DmO"
      },
      "outputs": [],
      "source": [
        "# import libraries\n",
        "import torch\n",
        "from torch.autograd import Variable\n",
        "import time\n",
        "import os\n",
        "import sys\n",
        "import os\n",
        "from torch import nn\n",
        "from torchvision import models\n"
      ]
    },
    {
      "cell_type": "code",
      "execution_count": 4,
      "metadata": {
        "colab": {},
        "colab_type": "code",
        "id": "g1G0IoVy2Pc7"
      },
      "outputs": [],
      "source": [
        "# Model with feature visualization\n",
        "from torch import nn\n",
        "from torchvision import models\n",
        "\n",
        "\n",
        "class Model(nn.Module):\n",
        "    def __init__(self, num_classes, latent_dim=2048, lstm_layers=1, hidden_dim=2048, bidirectional=False):\n",
        "        super(Model, self).__init__()\n",
        "        model = models.resnext50_32x4d(pretrained=True)\n",
        "        self.model = nn.Sequential(*list(model.children())[:-2])\n",
        "        self.lstm = nn.LSTM(latent_dim, hidden_dim,\n",
        "                            lstm_layers,  bidirectional)\n",
        "        self.relu = nn.LeakyReLU()\n",
        "        self.dp = nn.Dropout(0.4)\n",
        "        self.linear1 = nn.Linear(2048, num_classes)\n",
        "        self.avgpool = nn.AdaptiveAvgPool2d(1)\n",
        "\n",
        "    def forward(self, x):\n",
        "        batch_size, seq_length, c, h, w = x.shape\n",
        "        x = x.view(batch_size * seq_length, c, h, w)\n",
        "        fmap = self.model(x)\n",
        "        x = self.avgpool(fmap)\n",
        "        x = x.view(batch_size, seq_length, 2048)\n",
        "        x_lstm, _ = self.lstm(x, None)\n",
        "        return fmap, self.dp(self.linear1(x_lstm[:, -1, :]))\n"
      ]
    },
    {
      "cell_type": "code",
      "execution_count": 5,
      "metadata": {
        "colab": {},
        "colab_type": "code",
        "id": "avpp16KLze7T"
      },
      "outputs": [],
      "source": [
        "im_size = 112\n",
        "mean = [0.485, 0.456, 0.406]\n",
        "std = [0.229, 0.224, 0.225]\n",
        "sm = nn.Softmax()\n",
        "inv_normalize = transforms.Normalize(\n",
        "    mean=-1*np.divide(mean, std), std=np.divide([1, 1, 1], std))\n",
        "\n",
        "\n",
        "def im_convert(tensor):\n",
        "    \"\"\" Display a tensor as an image. \"\"\"\n",
        "    image = tensor.to(\"cpu\").clone().detach()\n",
        "    image = image.squeeze()\n",
        "    image = inv_normalize(image)\n",
        "    image = image.numpy()\n",
        "    image = image.transpose(1, 2, 0)\n",
        "    image = image.clip(0, 1)\n",
        "    cv2.imwrite('./v2.jpg', image*255)\n",
        "    return image\n",
        "\n",
        "\n",
        "def predict(model, img, path='./'):\n",
        "    fmap, logits = model(img.to('cpu'))\n",
        "    params = list(model.parameters())\n",
        "    weight_softmax = model.linear1.weight.detach().cpu().numpy()\n",
        "    logits = sm(logits)\n",
        "    _, prediction = torch.max(logits, 1)\n",
        "    confidence = logits[:, int(prediction.item())].item()*100\n",
        "    print('confidence of prediction:',\n",
        "          logits[:, int(prediction.item())].item()*100)\n",
        "    idx = np.argmax(logits.detach().cpu().numpy())\n",
        "    bz, nc, h, w = fmap.shape\n",
        "    out = np.dot(\n",
        "        fmap[-1].detach().cpu().numpy().reshape((nc, h*w)).T, weight_softmax[idx, :].T)\n",
        "    predict = out.reshape(h, w)\n",
        "    predict = predict - np.min(predict)\n",
        "    predict_img = predict / np.max(predict)\n",
        "    predict_img = np.uint8(255*predict_img)\n",
        "    out = cv2.resize(predict_img, (im_size, im_size))\n",
        "    heatmap = cv2.applyColorMap(out, cv2.COLORMAP_JET)\n",
        "    img = im_convert(img[:, -1, :, :, :])\n",
        "    result = heatmap * 0.5 + img*0.8*255\n",
        "    cv2.imwrite('v1.png', result)\n",
        "    result1 = heatmap * 0.5/255 + img*0.8\n",
        "    r, g, b = cv2.split(result1)\n",
        "    result1 = cv2.merge((r, g, b))\n",
        "    plt.imshow(result1)\n",
        "    plt.show()\n",
        "    return [int(prediction.item()), confidence]\n"
      ]
    },
    {
      "cell_type": "code",
      "execution_count": 6,
      "metadata": {
        "colab": {},
        "colab_type": "code",
        "id": "asSbpP8fzlFj"
      },
      "outputs": [],
      "source": [
        "import torch\n",
        "import torchvision\n",
        "from torchvision import transforms\n",
        "from torch.utils.data import DataLoader\n",
        "from torch.utils.data.dataset import Dataset\n",
        "import os\n",
        "import numpy as np\n",
        "import cv2\n",
        "import matplotlib.pyplot as plt\n",
        "\n",
        "\n",
        "class validation_dataset(Dataset):\n",
        "    def __init__(self, video_names, sequence_length=60, transform=None):\n",
        "        self.video_names = video_names\n",
        "        self.transform = transform\n",
        "        self.count = sequence_length\n",
        "        self.face_cascade = cv2.CascadeClassifier(\n",
        "            './haarcascade_frontalface_default.xml')\n",
        "\n",
        "    def __len__(self):\n",
        "        return len(self.video_names)\n",
        "\n",
        "    def __getitem__(self, idx):\n",
        "        video_path = self.video_names[idx]\n",
        "        frames = []\n",
        "        a = int(100/self.count)\n",
        "        first_frame = np.random.randint(0, a)\n",
        "        for i, frame in enumerate(self.frame_extract(video_path)):\n",
        "            # Use Haar Cascades classifier for face detection\n",
        "            gray = cv2.cvtColor(frame, cv2.COLOR_BGR2GRAY)\n",
        "            faces = self.face_cascade.detectMultiScale(\n",
        "                gray, scaleFactor=1.1, minNeighbors=5, minSize=(30, 30))\n",
        "\n",
        "            try:\n",
        "                # Crop the frame around the first detected face\n",
        "                (x, y, w, h) = faces[0]\n",
        "                frame = frame[y:y+h, x:x+w]\n",
        "            except:\n",
        "                pass\n",
        "\n",
        "            frames.append(self.transform(frame))\n",
        "            if (len(frames) == self.count):\n",
        "                break\n",
        "\n",
        "        frames = torch.stack(frames)\n",
        "        frames = frames[:self.count]\n",
        "        return frames.unsqueeze(0)\n",
        "\n",
        "    def frame_extract(self, path):\n",
        "        vidObj = cv2.VideoCapture(path)\n",
        "        success = 1\n",
        "        while success:\n",
        "            success, image = vidObj.read()\n",
        "            if success:\n",
        "                yield image\n",
        "\n",
        "\n",
        "def im_plot(tensor):\n",
        "    image = tensor.cpu().numpy().transpose(1, 2, 0)\n",
        "    b, g, r = cv2.split(image)\n",
        "    image = cv2.merge((r, g, b))\n",
        "    image = image*[0.22803, 0.22145, 0.216989] + [0.43216, 0.394666, 0.37645]\n",
        "    image = image*255.0\n",
        "    plt.imshow(image.astype(int))\n",
        "    plt.show()\n"
      ]
    },
    {
      "cell_type": "code",
      "execution_count": 7,
      "metadata": {
        "colab": {},
        "colab_type": "code",
        "id": "J8YkC-vwzrkE"
      },
      "outputs": [
        {
          "name": "stderr",
          "output_type": "stream",
          "text": [
            "c:\\Python311\\Lib\\site-packages\\torchvision\\models\\_utils.py:208: UserWarning: The parameter 'pretrained' is deprecated since 0.13 and may be removed in the future, please use 'weights' instead.\n",
            "  warnings.warn(\n",
            "c:\\Python311\\Lib\\site-packages\\torchvision\\models\\_utils.py:223: UserWarning: Arguments other than a weight enum or `None` for 'weights' are deprecated since 0.13 and may be removed in the future. The current behavior is equivalent to passing `weights=ResNeXt50_32X4D_Weights.IMAGENET1K_V1`. You can also use `weights=ResNeXt50_32X4D_Weights.DEFAULT` to get the most up-to-date weights.\n",
            "  warnings.warn(msg)\n"
          ]
        },
        {
          "name": "stdout",
          "output_type": "stream",
          "text": [
            "test: ../server_client/uploads/deepfake/Top 10 New Manhwa_Manhua 2023ð¢ #manhwa #webtoon #manga #newmanhwa #top10 #manhwatoread #shorts.mp4\n"
          ]
        },
        {
          "name": "stderr",
          "output_type": "stream",
          "text": [
            "C:\\Users\\oa147\\AppData\\Local\\Temp\\ipykernel_2952\\1816753005.py:25: UserWarning: Implicit dimension choice for softmax has been deprecated. Change the call to include dim=X as an argument.\n",
            "  logits = sm(logits)\n",
            "Clipping input data to the valid range for imshow with RGB data ([0..1] for floats or [0..255] for integers).\n"
          ]
        },
        {
          "name": "stdout",
          "output_type": "stream",
          "text": [
            "confidence of prediction: 99.99973773956299\n"
          ]
        },
        {
          "data": {
            "image/png": "[encoded data removed]",
            "text/plain": [
              "<Figure size 640x480 with 1 Axes>"
            ]
          },
          "metadata": {},
          "output_type": "display_data"
        },
        {
          "name": "stdout",
          "output_type": "stream",
          "text": [
            "FAKE\n"
          ]
        }
      ],
      "source": [
        "# Code for making prediction\n",
        "# DATA = None  # Initialize the data variable\n",
        "\n",
        "# @sio.on('connection')\n",
        "# async def on_connection(socket):\n",
        "#     @socket.on('data')\n",
        "#     async def on_prediction(data):\n",
        "#         global DATA\n",
        "#         DATA = data\n",
        "#         print(DATA)\n",
        "\n",
        "# while not DATA:  # Wait until data is assigned a value\n",
        "#     if DATA:\n",
        "im_size = 112\n",
        "mean = [0.485, 0.456, 0.406]\n",
        "std = [0.229, 0.224, 0.225]\n",
        "\n",
        "train_transforms = transforms.Compose([\n",
        "    transforms.ToPILImage(),\n",
        "    transforms.Resize((im_size, im_size)),\n",
        "    transforms.ToTensor(),\n",
        "    transforms.Normalize(mean, std)])\n",
        "\n",
        "path_to_videos = ['../server_client/uploads/deepfake/Top 10 New Manhwa_Manhua 2023ð¢ #manhwa #webtoon #manga #newmanhwa #top10 #manhwatoread #shorts.mp4']\n",
        "\n",
        "video_dataset = validation_dataset(\n",
        "    path_to_videos, sequence_length=20, transform=train_transforms)\n",
        "model = Model(2).cpu()\n",
        "path_to_model = '../../model_84_acc_10_frames_final_data.pt'\n",
        "model.load_state_dict(torch.load(\n",
        "    path_to_model, map_location=torch.device('cpu')))\n",
        "model.eval()\n",
        "\n",
        "for i in range(0, len(path_to_videos)):\n",
        "    print(\"test: \" + path_to_videos[i])\n",
        "    prediction = predict(model, video_dataset[i], './')\n",
        "\n",
        "    if prediction[0] == 1:\n",
        "        print(\"REAL\")\n",
        "        sio.emit('prediction', \"REAL\")\n",
        "    else:\n",
        "        print(\"FAKE\")\n",
        "        sio.emit('prediction', \"FAKE\")\n",
        "    # else:\n",
        "    #     print(DATA)\n"
      ]
    },
    {
      "cell_type": "code",
      "execution_count": null,
      "metadata": {},
      "outputs": [],
      "source": []
    }
  ],
  "metadata": {
    "accelerator": "GPU",
    "colab": {
      "collapsed_sections": [],
      "name": "Predict.ipynb",
      "provenance": []
    },
    "kernelspec": {
      "display_name": "Python 3",
      "name": "python3"
    },
    "language_info": {
      "codemirror_mode": {
        "name": "ipython",
        "version": 3
      },
      "file_extension": ".py",
      "mimetype": "text/x-python",
      "name": "python",
      "nbconvert_exporter": "python",
      "pygments_lexer": "ipython3",
      "version": "3.11.4"
    }
  },
  "nbformat": 4,
  "nbformat_minor": 0
}
